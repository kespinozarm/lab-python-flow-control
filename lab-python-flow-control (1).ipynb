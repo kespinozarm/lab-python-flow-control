{
 "cells": [
  {
   "cell_type": "markdown",
   "id": "d3bfc191-8885-42ee-b0a0-bbab867c6f9f",
   "metadata": {
    "tags": []
   },
   "source": [
    "# Lab | Flow Control"
   ]
  },
  {
   "cell_type": "markdown",
   "id": "3851fcd1-cf98-4653-9c89-e003b7ec9400",
   "metadata": {},
   "source": [
    "## Exercise: Managing Customer Orders Optimized\n",
    "\n",
    "In the last lab, you were starting an online store that sells various products. To ensure smooth operations, you developed a program that manages customer orders and inventory.\n",
    "\n",
    "You did so without using flow control. Let's go a step further and improve this code.\n",
    "\n",
    "Follow the steps below to complete the exercise:\n",
    "\n",
    "1. Look at your code from the lab data structures, and improve repeated code with loops.\n",
    "\n",
    "2. Instead of asking the user to input the name of three products that a customer wants to order, do the following:\n",
    "    \n",
    "    a. Prompt the user to enter the name of a product that a customer wants to order.\n",
    "    \n",
    "    b. Add the product name to the \"customer_orders\" set.\n",
    "    \n",
    "    c. Ask the user if they want to add another product (yes/no).\n",
    "    \n",
    "    d. Continue the loop until the user does not want to add another product.\n",
    "\n",
    "3. Instead of updating the inventory by subtracting 1 from the quantity of each product, only do it for  the products that were ordered (those in \"customer_orders\")."
   ]
  },
  {
   "cell_type": "code",
   "execution_count": 3,
   "id": "7ada3faf-aae5-49d1-89da-7ef89cd22851",
   "metadata": {},
   "outputs": [
    {
     "name": "stdin",
     "output_type": "stream",
     "text": [
      "How many of this t-shirt are:  5\n",
      "How many of this mug are:  5\n",
      "How many of this hat are:  5\n",
      "How many of this book are:  5\n",
      "How many of this keychain are:  5\n"
     ]
    },
    {
     "name": "stdout",
     "output_type": "stream",
     "text": [
      "Inventory: {'t-shirt': 5, 'mug': 5, 'hat': 5, 'book': 5, 'keychain': 5}\n"
     ]
    },
    {
     "name": "stdin",
     "output_type": "stream",
     "text": [
      "What 3 products do you want to order? ['t-shirt', 'mug', 'hat', 'book', 'keychain'] : mug,hat,book\n"
     ]
    },
    {
     "name": "stdout",
     "output_type": "stream",
     "text": [
      "The order is: ['mug', 'hat', 'book']\n"
     ]
    },
    {
     "name": "stdin",
     "output_type": "stream",
     "text": [
      "do you want to add another product? Yes/no:  yes\n",
      "What products do you want to order? ['t-shirt', 'mug', 'hat', 'book', 'keychain'] : book\n"
     ]
    },
    {
     "name": "stdout",
     "output_type": "stream",
     "text": [
      "The order is: ['mug', 'hat', 'book', 'book']\n",
      "The total products ordered are: 4\n",
      "The percentage of this order on our stock: 80.0\n",
      "Order Statistics: Total Products Ordered: 4 Percentage of Products Ordered: 80.0\n",
      "{'t-shirt': 5, 'mug': 4, 'hat': 4, 'book': 3, 'keychain': 5}\n"
     ]
    }
   ],
   "source": [
    "products = [\"t-shirt\", \"mug\", \"hat\", \"book\", \"keychain\"]\n",
    "\n",
    "inventory = {}\n",
    "    \n",
    "for product in products:\n",
    "    quantity = int(input(f\"How many of this {product} are: \"))\n",
    "    inventory[product] = quantity\n",
    "print(\"Inventory:\", inventory)\n",
    "\n",
    "customer_orders = []\n",
    "\n",
    "order = input(f\"What 3 products do you want to order? {products} :\").split(',')\n",
    "\n",
    "customer_orders.extend(order)\n",
    "\n",
    "print(\"The order is:\", customer_orders)\n",
    "\n",
    "\n",
    "#c. Ask the user if they want to add another product (yes/no).\n",
    "    \n",
    "#d. Continue the loop until the user does not want to add another product.\n",
    "\n",
    "more_products = input(\"do you want to add another product? Yes/no: \")\n",
    "while more_products == \"no\":\n",
    "    break\n",
    "if more_products == \"yes\":\n",
    "    order = input(f\"What products do you want to order? {products} :\").split(',')\n",
    "    customer_orders.extend(order)\n",
    "print(\"The order is:\", customer_orders)\n",
    "\n",
    "\n",
    "#7. - Store these statistics in a tuple called `order_status`.\n",
    "\n",
    "total_products_ordered = len(customer_orders)\n",
    "\n",
    "print (\"The total products ordered are:\", total_products_ordered)\n",
    "\n",
    "percentage_prod_ordered= (len(customer_orders)/len(products)) *100\n",
    "print(\"The percentage of this order on our stock:\", percentage_prod_ordered)\n",
    "\n",
    "\n",
    "order_status = (total_products_ordered, percentage_prod_ordered)\n",
    "\n",
    "\n",
    "print (\"Order Statistics:\" ,\n",
    "       \"Total Products Ordered:\", total_products_ordered,\n",
    "      \"Percentage of Products Ordered:\", percentage_prod_ordered)\n",
    "\n",
    "#9. Update the inventory by subtracting 1 from the quantity of each product. Modify the `inventory` dictionary accordingly.\n",
    "\n",
    "for item in customer_orders:\n",
    "    if inventory[item] > 0:\n",
    "        inventory[item] -= 1\n",
    "    else:\n",
    "        print(f\"Cannot reduce {product} inventory. Out of stock.\")    \n",
    "\n",
    "print (inventory)"
   ]
  },
  {
   "cell_type": "code",
   "execution_count": null,
   "id": "81e4d2ca-d553-475d-9908-2385a2776615",
   "metadata": {},
   "outputs": [],
   "source": []
  }
 ],
 "metadata": {
  "kernelspec": {
   "display_name": "Python 3 (ipykernel)",
   "language": "python",
   "name": "python3"
  },
  "language_info": {
   "codemirror_mode": {
    "name": "ipython",
    "version": 3
   },
   "file_extension": ".py",
   "mimetype": "text/x-python",
   "name": "python",
   "nbconvert_exporter": "python",
   "pygments_lexer": "ipython3",
   "version": "3.11.7"
  }
 },
 "nbformat": 4,
 "nbformat_minor": 5
}
